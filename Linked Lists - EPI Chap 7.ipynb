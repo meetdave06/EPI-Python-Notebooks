{
 "cells": [
  {
   "cell_type": "markdown",
   "metadata": {},
   "source": [
    "## Prototype"
   ]
  },
  {
   "cell_type": "code",
   "execution_count": 1,
   "metadata": {},
   "outputs": [],
   "source": [
    "class ListNode:\n",
    "    def __init__(self, data=0, next_node=None):\n",
    "        self.data = data\n",
    "        self.next = next_node"
   ]
  },
  {
   "cell_type": "markdown",
   "metadata": {},
   "source": [
    "## Make a Linked list"
   ]
  },
  {
   "cell_type": "code",
   "execution_count": 4,
   "metadata": {},
   "outputs": [],
   "source": [
    "# 1->2->3->4\n",
    "\n",
    "four = ListNode(data=4, next_node=None)\n",
    "three = ListNode(data=3, next_node=four)\n",
    "two = ListNode(data=2, next_node=three)\n",
    "one = ListNode(data=1, next_node=two)\n",
    "head = ListNode(data=0, next_node=one)"
   ]
  },
  {
   "cell_type": "markdown",
   "metadata": {},
   "source": [
    "# Search for a key"
   ]
  },
  {
   "cell_type": "code",
   "execution_count": 11,
   "metadata": {},
   "outputs": [],
   "source": [
    "def search_list(head, key):\n",
    "    \n",
    "    while head and head.data!=key:\n",
    "        head = head.next\n",
    "    \n",
    "    return head"
   ]
  },
  {
   "cell_type": "markdown",
   "metadata": {},
   "source": [
    "## Insert a new node after a specified node"
   ]
  },
  {
   "cell_type": "code",
   "execution_count": 12,
   "metadata": {},
   "outputs": [],
   "source": [
    "def insert_after(node, new_node):\n",
    "    \n",
    "    new_node.next = node.next\n",
    "    node.next = new_node"
   ]
  },
  {
   "cell_type": "markdown",
   "metadata": {},
   "source": [
    "## Delete a node"
   ]
  },
  {
   "cell_type": "code",
   "execution_count": 13,
   "metadata": {},
   "outputs": [],
   "source": [
    "# Delete the node past this one. Assume node is not a tail\n",
    "def delete_after(node):\n",
    "    \n",
    "    node.next = node.next.next"
   ]
  },
  {
   "cell_type": "markdown",
   "metadata": {},
   "source": [
    "## Print Linked List"
   ]
  },
  {
   "cell_type": "code",
   "execution_count": 58,
   "metadata": {},
   "outputs": [],
   "source": [
    "def print_list(head):\n",
    "    while head!=None:\n",
    "        print(head.data)\n",
    "        head = head.next"
   ]
  },
  {
   "cell_type": "markdown",
   "metadata": {},
   "source": [
    "## Top Tips for Linked Lists\n",
    "\n",
    "* List problems often have a simple brute-force solution that uses O(n) space, but a subtler solution that uses the existing list nodes to reduce space complexity to O(1).\n",
    "\n",
    "* Very often, a problem on lists is conceptually simple, and is more about cleanly coding what's specified, rather than designi.g an algorithm.\n",
    "\n",
    "* Consider using a dummy head (sometimes referred to as a sentinel) to avoid having to check for empty lists. This simplifies code, and makes bugs less likely.\n",
    "\n",
    "* It's easy to forget to update next (and previous for double linked list) for the head and tail. \n",
    "\n",
    "* Algorithms operating on singly linked lists often benefit from using two iterators, one ahead of the other, or one advancing- quicker than the other.\n"
   ]
  },
  {
   "cell_type": "markdown",
   "metadata": {},
   "source": [
    "## 7.1 Merge Two Sorted Lists"
   ]
  },
  {
   "cell_type": "code",
   "execution_count": 102,
   "metadata": {},
   "outputs": [
    {
     "name": "stdout",
     "output_type": "stream",
     "text": [
      "2\n",
      "3\n",
      "5\n",
      "7\n",
      "11\n"
     ]
    }
   ],
   "source": [
    "# Input\n",
    "\n",
    "# L1 -> 2 -> 5 -> 7\n",
    "\n",
    "seven = ListNode(data=7, next_node=None)\n",
    "five = ListNode(data=5, next_node=seven)\n",
    "two = ListNode(data=2, next_node=five)\n",
    "L1 = ListNode(data=0, next_node=two)\n",
    "\n",
    "# L2 -> 3 -> 11\n",
    "\n",
    "eleven = ListNode(data=11, next_node=None)\n",
    "three = ListNode(data=3, next_node=eleven)\n",
    "L2 = ListNode(data=0, next_node=three)\n",
    "\n",
    "\n",
    "def merge_two_sorted_lists(L1: ListNode,\n",
    "                           L2: ListNode) -> ListNode:\n",
    "    \n",
    "    R = ListNode(data=0, next_node=None)\n",
    "    temp = R\n",
    "    \n",
    "    L1 = L1.next\n",
    "    L2 = L2.next\n",
    "    \n",
    "    while L1!=None and L2!=None:\n",
    " \n",
    "        if L1.data < L2.data:\n",
    "            \n",
    "            temp.next = L1\n",
    "            L1 = L1.next # Delete\n",
    "            temp = temp.next\n",
    "            temp.next = None\n",
    "            \n",
    "            \n",
    "        else:\n",
    "\n",
    "            temp.next = L2\n",
    "            L2 = L2.next # Delete\n",
    "            temp = temp.next\n",
    "            temp.next = None\n",
    "            \n",
    "    if L1==None:       \n",
    "        temp.next = L2\n",
    "    else:\n",
    "        temp.next = L1\n",
    "        \n",
    "    return R.next\n",
    "\n",
    "R = merge_two_sorted_lists(L1,L2)\n",
    "\n",
    "print_list(R)"
   ]
  },
  {
   "cell_type": "markdown",
   "metadata": {},
   "source": [
    "## 7.2 Reverse a Single Sublist"
   ]
  },
  {
   "cell_type": "code",
   "execution_count": 100,
   "metadata": {},
   "outputs": [
    {
     "name": "stdout",
     "output_type": "stream",
     "text": [
      "11\n",
      "7\n",
      "5\n",
      "3\n",
      "2\n"
     ]
    }
   ],
   "source": [
    "# Input\n",
    "\n",
    "# M -> 11 -> 3 -> 5 -> 7 -> 2\n",
    "\n",
    "two = ListNode(data=2, next_node=None)\n",
    "seven = ListNode(data=7, next_node=two)\n",
    "five = ListNode(data=5, next_node=seven)\n",
    "three = ListNode(data=3, next_node=five)\n",
    "eleven = ListNode(data=11, next_node=three)\n",
    "L2 = ListNode(data=0, next_node=eleven)\n",
    "\n",
    "# print_list(eleven)\n",
    "\n",
    "def reverse_sublist(L, start, finish):\n",
    "    \n",
    "    \n",
    "    R = sublist_head = ListNode(0, L)\n",
    "    \n",
    "    for _ in range(1, start):\n",
    "        sublist_head = sublist_head.next\n",
    "        \n",
    "    sublist_iter = sublist_head.next\n",
    "    for _ in range(finish - start):\n",
    "        temp = sublist_iter.next\n",
    "        \n",
    "        sublist_iter.next = temp.next\n",
    "        temp.next = sublist_head.next\n",
    "        sublist_head.next = temp\n",
    "        \n",
    "    return R.next\n",
    "\n",
    "R = reverse_sublist(eleven, 2, 4)\n",
    "print_list(R)\n",
    "    \n",
    "#     R = temp = ListNode()    \n",
    "#     D = tail = temp2 = ListNode()\n",
    "    \n",
    "#     temp1 = ListNode(0, L)\n",
    "#     temp1 = temp1.next\n",
    "\n",
    "#     count = 1    \n",
    "#     while count < start:\n",
    "#         temp.next = L\n",
    "#         temp = temp.next\n",
    "#         L = L.next\n",
    "#         temp1 = L\n",
    "#         count += 1\n",
    "    \n",
    "#     while  count>= start and count <= end:\n",
    "        \n",
    "#         L = L.next\n",
    "#         temp2.next = temp1\n",
    "#         if count == start:\n",
    "#             temp1.next = None\n",
    "#         else:\n",
    "#             temp1.next = tail\n",
    "#         tail= temp1\n",
    "#         temp1= L\n",
    "#         count +=1\n",
    "\n",
    "#     temp.next = temp2.next\n",
    "\n",
    "#     while tail.next!=None:\n",
    "#         tail = tail.next\n",
    "        \n",
    "#     tail.next = L\n",
    "    \n",
    "#     return R.next\n",
    "\n"
   ]
  },
  {
   "cell_type": "markdown",
   "metadata": {},
   "source": [
    "## 7.3 Test for Cyclicity"
   ]
  }
 ],
 "metadata": {
  "kernelspec": {
   "display_name": "Python 3",
   "language": "python",
   "name": "python3"
  },
  "language_info": {
   "codemirror_mode": {
    "name": "ipython",
    "version": 3
   },
   "file_extension": ".py",
   "mimetype": "text/x-python",
   "name": "python",
   "nbconvert_exporter": "python",
   "pygments_lexer": "ipython3",
   "version": "3.6.9"
  }
 },
 "nbformat": 4,
 "nbformat_minor": 4
}
