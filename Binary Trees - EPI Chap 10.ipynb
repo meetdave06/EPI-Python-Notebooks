{
 "cells": [
  {
   "cell_type": "code",
   "execution_count": 1,
   "metadata": {},
   "outputs": [],
   "source": [
    "# Python program to for tree traversals \n",
    "  \n",
    "# A class that represents an individual node in a \n",
    "# Binary Tree \n",
    "class Node: \n",
    "    def __init__(self,key): \n",
    "        self.left = None\n",
    "        self.right = None\n",
    "        self.val = key \n",
    "  "
   ]
  },
  {
   "cell_type": "markdown",
   "metadata": {},
   "source": [
    "# Make tree"
   ]
  },
  {
   "cell_type": "code",
   "execution_count": 36,
   "metadata": {},
   "outputs": [],
   "source": [
    "root = Node(\"A\")\n",
    "root.left  = Node(\"B\")\n",
    "root.right = Node(\"I\")\n",
    "root.left.left = Node(\"C\")\n",
    "root.left.right = Node(\"F\")\n",
    "root.right.left = Node(\"J\")\n",
    "root.right.right = Node(\"O\")\n",
    "root.left.left.left = Node(\"D\")\n",
    "root.left.left.right = Node(\"E\")\n",
    "root.left.right.right = Node(\"G\")\n",
    "root.left.right.right.left = Node(\"H\")\n",
    "root.right.left.right = Node(\"K\")\n",
    "root.right.left.right.left = Node(\"L\")\n",
    "root.right.left.right.right = Node(\"N\")\n",
    "root.right.left.right.left.right = Node(\"M\")\n",
    "root.right.right.right = Node(\"P\")"
   ]
  },
  {
   "cell_type": "markdown",
   "metadata": {},
   "source": [
    "## Inorder Traversal\n",
    "\n",
    "### Left -> Root -> Right"
   ]
  },
  {
   "cell_type": "code",
   "execution_count": 9,
   "metadata": {},
   "outputs": [
    {
     "name": "stdout",
     "output_type": "stream",
     "text": [
      "D\n",
      "C\n",
      "E\n",
      "B\n",
      "F\n",
      "H\n",
      "G\n",
      "A\n",
      "J\n",
      "L\n",
      "M\n",
      "K\n",
      "N\n",
      "I\n",
      "O\n",
      "P\n"
     ]
    }
   ],
   "source": [
    "def printInorder(root):\n",
    "    \n",
    "    if root == None:\n",
    "        return\n",
    "\n",
    "        \n",
    "    printInorder(root.left)\n",
    "\n",
    "    print(root.val)\n",
    "        \n",
    "    printInorder(root.right)\n",
    "    \n",
    "printInorder(root)"
   ]
  },
  {
   "cell_type": "markdown",
   "metadata": {},
   "source": [
    "## Preorder Traversal\n",
    "\n",
    "### Root->Left->Right"
   ]
  },
  {
   "cell_type": "code",
   "execution_count": 10,
   "metadata": {},
   "outputs": [
    {
     "name": "stdout",
     "output_type": "stream",
     "text": [
      "A\n",
      "B\n",
      "C\n",
      "D\n",
      "E\n",
      "F\n",
      "G\n",
      "H\n",
      "I\n",
      "J\n",
      "K\n",
      "L\n",
      "M\n",
      "N\n",
      "O\n",
      "P\n"
     ]
    }
   ],
   "source": [
    "def printPreorder(root):\n",
    "    \n",
    "    if root==None:\n",
    "        return\n",
    "    \n",
    "    print(root.val)\n",
    "    \n",
    "    printPreorder(root.left)\n",
    "    \n",
    "    printPreorder(root.right)\n",
    "    \n",
    "printPreorder(root)"
   ]
  },
  {
   "cell_type": "markdown",
   "metadata": {},
   "source": [
    "## Postorder Traversal\n",
    "\n",
    "### Left->Right->Root"
   ]
  },
  {
   "cell_type": "code",
   "execution_count": 11,
   "metadata": {},
   "outputs": [
    {
     "name": "stdout",
     "output_type": "stream",
     "text": [
      "D\n",
      "E\n",
      "C\n",
      "H\n",
      "G\n",
      "F\n",
      "B\n",
      "M\n",
      "L\n",
      "N\n",
      "K\n",
      "J\n",
      "P\n",
      "O\n",
      "I\n",
      "A\n"
     ]
    }
   ],
   "source": [
    "def printPostorder(root):\n",
    "    \n",
    "    if root==None:\n",
    "        return\n",
    "    \n",
    "    printPostorder(root.left)\n",
    "    \n",
    "    printPostorder(root.right)\n",
    "    \n",
    "    print(root.val)\n",
    "    \n",
    "printPostorder(root)"
   ]
  },
  {
   "cell_type": "markdown",
   "metadata": {},
   "source": [
    "## Height Balanced Tree\n",
    "\n",
    "### EPI 10.1"
   ]
  },
  {
   "cell_type": "code",
   "execution_count": 38,
   "metadata": {},
   "outputs": [],
   "source": [
    "root = Node(\"A\")\n",
    "root.left = Node(\"B\")\n",
    "root.right = Node(\"K\")\n",
    "root.left.left = Node(\"C\")\n",
    "root.left.right = Node(\"H\")\n",
    "root.right.left = Node(\"L\")\n",
    "root.right.right = Node(\"O\")\n",
    "root.left.left.left = Node(\"D\")\n",
    "root.left.left.right = Node(\"G\")\n",
    "root.right.left.left = Node(\"M\")\n",
    "root.right.left.right = Node(\"N\")\n",
    "root.left.right.left = Node(\"I\")\n",
    "root.left.right.right = Node(\"J\")\n",
    "root.left.left.left.left = Node(\"E\")\n",
    "root.left.left.left.right = Node(\"F\")\n"
   ]
  },
  {
   "cell_type": "code",
   "execution_count": 39,
   "metadata": {},
   "outputs": [
    {
     "name": "stdout",
     "output_type": "stream",
     "text": [
      "5\n",
      "True\n"
     ]
    }
   ],
   "source": [
    "def isHeightBalanced(root):\n",
    "    \n",
    "    if root == None:\n",
    "        return 0, True\n",
    "    \n",
    "    left_height, isLeftBal = isHeightBalanced(root.left)\n",
    "    \n",
    "    if not isLeftBal:\n",
    "        return 0, False\n",
    "    \n",
    "    right_height, isRightBal = isHeightBalanced(root.right)\n",
    "    \n",
    "    if not isRightBal:\n",
    "        return 0, False\n",
    "\n",
    "    if abs(left_height-right_height) <=1:\n",
    "            return max(left_height,right_height) + 1, True\n",
    "    else:\n",
    "        return max(left_height,right_height) + 1, False\n",
    "\n",
    "    \n",
    "height,isBal = isHeightBalanced(root)\n",
    "\n",
    "print(height)\n",
    "print(isBal)\n"
   ]
  },
  {
   "cell_type": "code",
   "execution_count": null,
   "metadata": {},
   "outputs": [],
   "source": []
  }
 ],
 "metadata": {
  "kernelspec": {
   "display_name": "Python 3",
   "language": "python",
   "name": "python3"
  },
  "language_info": {
   "codemirror_mode": {
    "name": "ipython",
    "version": 3
   },
   "file_extension": ".py",
   "mimetype": "text/x-python",
   "name": "python",
   "nbconvert_exporter": "python",
   "pygments_lexer": "ipython3",
   "version": "3.6.9"
  }
 },
 "nbformat": 4,
 "nbformat_minor": 2
}
